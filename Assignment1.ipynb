{
 "cells": [
  {
   "cell_type": "code",
   "execution_count": 1,
   "id": "390a3ea3-dd4d-46f9-a799-9f017f1a1137",
   "metadata": {},
   "outputs": [],
   "source": [
    "### What is 7 to the power of 4?**"
   ]
  },
  {
   "cell_type": "code",
   "execution_count": 3,
   "id": "634e9b72-9b89-45aa-b7f4-9a905296a2bc",
   "metadata": {},
   "outputs": [],
   "source": [
    "E1 = 7**4"
   ]
  },
  {
   "cell_type": "code",
   "execution_count": 5,
   "id": "d73a3b38-f7db-4db5-a78d-c982ca641389",
   "metadata": {},
   "outputs": [
    {
     "data": {
      "text/plain": [
       "2401"
      ]
     },
     "execution_count": 5,
     "metadata": {},
     "output_type": "execute_result"
    }
   ],
   "source": [
    "E1"
   ]
  },
  {
   "cell_type": "code",
   "execution_count": 11,
   "id": "9f18a9d3-f3bd-4827-b124-c2874013fa20",
   "metadata": {},
   "outputs": [
    {
     "data": {
      "text/plain": [
       "['Hi', 'there', 'Yogesh!']"
      ]
     },
     "execution_count": 11,
     "metadata": {},
     "output_type": "execute_result"
    }
   ],
   "source": [
    "##** Split this string:**\n",
    "E2 = \"Hi there Yogesh!\"\n",
    "E2.split(\" \")"
   ]
  },
  {
   "cell_type": "code",
   "execution_count": 13,
   "id": "f0dcc325-6167-4221-a43a-037e4ec1db15",
   "metadata": {},
   "outputs": [
    {
     "data": {
      "text/plain": [
       "['Hi', 'there', 'Yogesh!']"
      ]
     },
     "execution_count": 13,
     "metadata": {},
     "output_type": "execute_result"
    }
   ],
   "source": [
    "##** Split this string into List:**\n",
    "E2 = \"Hi there Yogesh!\"\n",
    "list(E2.split(\" \"))"
   ]
  },
  {
   "cell_type": "code",
   "execution_count": 15,
   "id": "820fe4ab-f517-4813-8f56-c696f93f7ba1",
   "metadata": {},
   "outputs": [],
   "source": [
    "### ** Given the variables:** , ** Use .format() to print the following string: **\n",
    "\n",
    "planet = \"Earth\"\n",
    "diameter = 12742\n",
    "\n",
    "E3 = 'The diameter of {one} is {two} kilometers'.format(one=planet,two=diameter)"
   ]
  },
  {
   "cell_type": "code",
   "execution_count": 17,
   "id": "775c2286-0fc4-443b-88c4-8cc6369a0713",
   "metadata": {},
   "outputs": [
    {
     "data": {
      "text/plain": [
       "'The diameter of Earth is 12742 kilometers'"
      ]
     },
     "execution_count": 17,
     "metadata": {},
     "output_type": "execute_result"
    }
   ],
   "source": [
    "E3"
   ]
  },
  {
   "cell_type": "code",
   "execution_count": 19,
   "id": "c90b6353-4cda-4946-82d4-6a05bc266810",
   "metadata": {},
   "outputs": [],
   "source": [
    "### ** Given this nested list, use indexing to grab the word \"hello\" **\n",
    "\n",
    "E4 = [1,2,[3,4],[5,[100,200,['hello']],23,11],1,7]"
   ]
  },
  {
   "cell_type": "code",
   "execution_count": 21,
   "id": "c91d7360-eb44-462f-a0cb-4bd79bec3352",
   "metadata": {},
   "outputs": [
    {
     "data": {
      "text/plain": [
       "'hello'"
      ]
     },
     "execution_count": 21,
     "metadata": {},
     "output_type": "execute_result"
    }
   ],
   "source": [
    "E4[3][1][2][0]"
   ]
  },
  {
   "cell_type": "code",
   "execution_count": 23,
   "id": "a4127fbf-384b-46af-9c03-3317f03eb011",
   "metadata": {},
   "outputs": [],
   "source": [
    "### ** Given this nested dictionary grab the word \"hello\". Be prepared, this will be annoying/tricky **\n",
    "E5 = {'k1':[1,2,3,{'tricky':['oh','man','inception',{'target':[1,2,3,'hello']}]}]}\n"
   ]
  },
  {
   "cell_type": "code",
   "execution_count": 35,
   "id": "7239c50f-6fc2-47bf-b116-7a052ac494a3",
   "metadata": {},
   "outputs": [
    {
     "data": {
      "text/plain": [
       "'hello'"
      ]
     },
     "execution_count": 35,
     "metadata": {},
     "output_type": "execute_result"
    }
   ],
   "source": [
    "E5['k1'][3]['tricky'][3]['target'][3]"
   ]
  },
  {
   "cell_type": "code",
   "execution_count": 37,
   "id": "bf72a57a-5913-463d-b19a-170da6ede3f9",
   "metadata": {},
   "outputs": [],
   "source": [
    "## ** What is the main difference between a tuple and a list? **\n",
    "##Tuple is immutable - means we can not replace or change the value of index"
   ]
  },
  {
   "cell_type": "code",
   "execution_count": 53,
   "id": "89f55276-bd98-4f51-b7c0-6b0e1ad81565",
   "metadata": {},
   "outputs": [],
   "source": [
    "## ** Create a function that grabs the email website domain from a string in the form: **\n",
    "## So for example, passing \"user@domain.com\" would return: domain.com\n",
    "\n",
    "teststr = \"user@domain.com\"\n",
    "E6 = teststr.split(\"@\")"
   ]
  },
  {
   "cell_type": "code",
   "execution_count": 55,
   "id": "715a1e20-5e38-4359-9329-10448cfaad06",
   "metadata": {},
   "outputs": [
    {
     "data": {
      "text/plain": [
       "['user', 'domain.com']"
      ]
     },
     "execution_count": 55,
     "metadata": {},
     "output_type": "execute_result"
    }
   ],
   "source": [
    "E6"
   ]
  },
  {
   "cell_type": "code",
   "execution_count": 67,
   "id": "cf14115a-4e2a-4570-8ae4-c0c0a5df4743",
   "metadata": {},
   "outputs": [],
   "source": [
    "def search_domain(E6,searchstr):\n",
    "    for key in E6:\n",
    "        if key == searchstr:\n",
    "            print(key)\n",
    "    "
   ]
  },
  {
   "cell_type": "code",
   "execution_count": 72,
   "id": "9fcccb4f-4197-42df-9224-eb8bd4f79f7a",
   "metadata": {},
   "outputs": [
    {
     "name": "stdout",
     "output_type": "stream",
     "text": [
      "domain.com\n"
     ]
    }
   ],
   "source": [
    "searchstr = \"domain.com\"\n",
    "search_domain(E6,searchstr)"
   ]
  },
  {
   "cell_type": "code",
   "execution_count": 76,
   "id": "9c5ce460-3421-44e3-a954-b458836a790b",
   "metadata": {},
   "outputs": [],
   "source": [
    "### ** Create a basic function that returns True if the word 'dog' is contained in the input string. \n",
    "## Don't worry about edge cases like a punctuation being attached to the word dog, but do account for capitalization. **\n",
    "\n",
    "def findDog(string):\n",
    "    E7 = string.split(\" \")\n",
    "    for find in E7:\n",
    "        if find=='dog':\n",
    "            print(True)\n",
    "    "
   ]
  },
  {
   "cell_type": "code",
   "execution_count": 78,
   "id": "46b3bda2-c95a-4a3e-bed5-7a6ffe309c18",
   "metadata": {},
   "outputs": [
    {
     "name": "stdout",
     "output_type": "stream",
     "text": [
      "True\n"
     ]
    }
   ],
   "source": [
    "findDog('Is there a dog here?')"
   ]
  },
  {
   "cell_type": "code",
   "execution_count": 90,
   "id": "c5c82609-bafb-44de-b4d0-23559f65f06f",
   "metadata": {},
   "outputs": [],
   "source": [
    "## ** Create a function that counts the number of times the word \"dog\" occurs in a string. Again ignore edge cases. **\n",
    "def countDog(string):\n",
    "    E7 = string.split(\" \")\n",
    "    return (E7.count('dog'))"
   ]
  },
  {
   "cell_type": "code",
   "execution_count": 92,
   "id": "879fbf37-49f8-4499-b102-6c4fb42062e9",
   "metadata": {},
   "outputs": [
    {
     "data": {
      "text/plain": [
       "2"
      ]
     },
     "execution_count": 92,
     "metadata": {},
     "output_type": "execute_result"
    }
   ],
   "source": [
    "countDog('This dog runs faster than the other dog dude!')"
   ]
  },
  {
   "cell_type": "code",
   "execution_count": 106,
   "id": "2d782996-dfd1-4c4d-858b-f754829dcc25",
   "metadata": {},
   "outputs": [],
   "source": [
    "## ** Use lambda expressions and the filter() function to filter out words from a list that don't start with the letter 's'. For example:**\n",
    "\n",
    "seq = ['soup','dog','salad','cat','great']\n",
    "E8 = list(filter(lambda x: x[0]!='s',seq))"
   ]
  },
  {
   "cell_type": "code",
   "execution_count": 108,
   "id": "e70a27fb-bd2f-4d07-8b34-f02de8afa1d5",
   "metadata": {},
   "outputs": [
    {
     "data": {
      "text/plain": [
       "['dog', 'cat', 'great']"
      ]
     },
     "execution_count": 108,
     "metadata": {},
     "output_type": "execute_result"
    }
   ],
   "source": [
    "E8"
   ]
  },
  {
   "cell_type": "code",
   "execution_count": 144,
   "id": "c8e9e8d1-3e1f-4cac-953d-235baacdd8f5",
   "metadata": {},
   "outputs": [],
   "source": [
    "## *You are driving a little too fast, and a police officer stops you. \n",
    "## Write a function to return one of 3 possible results: \"No ticket\", \"Small ticket\", or \"Big Ticket\". \n",
    "## If your speed is 60 or less, the result is \"No Ticket\". \n",
    "## If speed is between 61 and 80 inclusive, the result is \"Small Ticket\". \n",
    "## If speed is 81 or more, the result is \"Big Ticket\". \n",
    "## Unless it is your birthday (encoded as a boolean value in the parameters of the function) -- on your birthday, \n",
    "## your speed can be 5 higher in all cases. *\n",
    "\n",
    "def caught_speeding(speed, is_birthday):\n",
    "    speed_value = speed\n",
    "    if speed <= 60:\n",
    "        print(\"No ticket\")\n",
    "    elif speed>60 and speed<80:\n",
    "        print(\"Small Ticket\")\n",
    "    elif speed > 80:\n",
    "        print(\"Big Ticket\")\n",
    "\n",
    "    if is_birthday == True:\n",
    "        speed = speed-5\n",
    "    else:\n",
    "        speed = speed_value\n",
    "\n",
    "    print(speed)"
   ]
  },
  {
   "cell_type": "code",
   "execution_count": 148,
   "id": "28332a31-8d49-48ac-8cf6-da33569d23b4",
   "metadata": {},
   "outputs": [
    {
     "name": "stdout",
     "output_type": "stream",
     "text": [
      "No ticket\n",
      "51\n"
     ]
    }
   ],
   "source": [
    "caught_speeding(51,False)"
   ]
  },
  {
   "cell_type": "code",
   "execution_count": 150,
   "id": "29372213-4099-4292-a972-a227c5175720",
   "metadata": {},
   "outputs": [
    {
     "name": "stdout",
     "output_type": "stream",
     "text": [
      "Big Ticket\n",
      "91\n"
     ]
    }
   ],
   "source": [
    "caught_speeding(91,False)"
   ]
  },
  {
   "cell_type": "code",
   "execution_count": 152,
   "id": "01d646ab-66ae-4e28-ae0e-cb70a896ca20",
   "metadata": {},
   "outputs": [
    {
     "name": "stdout",
     "output_type": "stream",
     "text": [
      "Small Ticket\n",
      "65\n"
     ]
    }
   ],
   "source": [
    "caught_speeding(70,True)"
   ]
  },
  {
   "cell_type": "code",
   "execution_count": 166,
   "id": "9d4109a2-709f-41b8-8292-f2dce45898ea",
   "metadata": {},
   "outputs": [],
   "source": [
    "### Given a string print number num by extracting all the digits from the string as in string\n",
    "## Print negative number if the first character in string is '-'\n",
    "## eg. -123abcd should return -123,abcd456-->456,fdhfh78dsd89--->7889,-56dssd78-->-5678\n",
    "\n",
    "def find_numeric_digit(string):\n",
    "    E10 = filter(lambda x: x[0]!='-',string)\n",
    "    print(E10)"
   ]
  },
  {
   "cell_type": "code",
   "execution_count": 168,
   "id": "700af090-8482-49ac-9ed5-7b95aaa8cadb",
   "metadata": {},
   "outputs": [
    {
     "name": "stdout",
     "output_type": "stream",
     "text": [
      "<filter object at 0x0000022FA13486D0>\n"
     ]
    }
   ],
   "source": [
    "find_numeric_digit (\"-123abcd\")"
   ]
  },
  {
   "cell_type": "code",
   "execution_count": null,
   "id": "995d6a68-a7ed-4f25-badc-fc8d5bb94323",
   "metadata": {},
   "outputs": [],
   "source": []
  }
 ],
 "metadata": {
  "kernelspec": {
   "display_name": "Python [conda env:base] *",
   "language": "python",
   "name": "conda-base-py"
  },
  "language_info": {
   "codemirror_mode": {
    "name": "ipython",
    "version": 3
   },
   "file_extension": ".py",
   "mimetype": "text/x-python",
   "name": "python",
   "nbconvert_exporter": "python",
   "pygments_lexer": "ipython3",
   "version": "3.12.7"
  }
 },
 "nbformat": 4,
 "nbformat_minor": 5
}

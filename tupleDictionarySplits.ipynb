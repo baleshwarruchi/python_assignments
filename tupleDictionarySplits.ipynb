{
 "cells": [
  {
   "cell_type": "code",
   "execution_count": 1,
   "id": "bee3fbe6-77a6-4329-91f7-f713f169afbf",
   "metadata": {},
   "outputs": [],
   "source": [
    "s= \"we are learning paython, it requires to upgrade the skills\""
   ]
  },
  {
   "cell_type": "code",
   "execution_count": 3,
   "id": "25c0b9aa-0723-4903-90da-1c74a17a60c3",
   "metadata": {},
   "outputs": [
    {
     "data": {
      "text/plain": [
       "str"
      ]
     },
     "execution_count": 3,
     "metadata": {},
     "output_type": "execute_result"
    }
   ],
   "source": [
    "type(s)"
   ]
  },
  {
   "cell_type": "code",
   "execution_count": 5,
   "id": "09c9da83-d7ba-42bf-9b93-e7360ae8d66a",
   "metadata": {},
   "outputs": [
    {
     "data": {
      "text/plain": [
       "'we are learning paython, it requires to upgrade the skills'"
      ]
     },
     "execution_count": 5,
     "metadata": {},
     "output_type": "execute_result"
    }
   ],
   "source": [
    "s"
   ]
  },
  {
   "cell_type": "code",
   "execution_count": 7,
   "id": "83d1c8d2-2598-445e-9d07-4f1d4fa7771e",
   "metadata": {},
   "outputs": [
    {
     "data": {
      "text/plain": [
       "['we',\n",
       " 'are',\n",
       " 'learning',\n",
       " 'paython,',\n",
       " 'it',\n",
       " 'requires',\n",
       " 'to',\n",
       " 'upgrade',\n",
       " 'the',\n",
       " 'skills']"
      ]
     },
     "execution_count": 7,
     "metadata": {},
     "output_type": "execute_result"
    }
   ],
   "source": [
    "s.split()"
   ]
  },
  {
   "cell_type": "code",
   "execution_count": 1,
   "id": "7197809a-3c23-4e0a-b900-c18cbd10ae3a",
   "metadata": {},
   "outputs": [],
   "source": [
    "## Tuples - always use () in tuple, it van be anything number string"
   ]
  },
  {
   "cell_type": "code",
   "execution_count": 3,
   "id": "595224f4-745f-44c4-8782-b3e26d5b8bf2",
   "metadata": {},
   "outputs": [],
   "source": [
    "t1 = (1,2,3,4,4,5)"
   ]
  },
  {
   "cell_type": "code",
   "execution_count": 7,
   "id": "726a7ff0-7957-4305-b2be-4ea0c662a2b0",
   "metadata": {},
   "outputs": [
    {
     "data": {
      "text/plain": [
       "tuple"
      ]
     },
     "execution_count": 7,
     "metadata": {},
     "output_type": "execute_result"
    }
   ],
   "source": [
    "type(t1)"
   ]
  },
  {
   "cell_type": "code",
   "execution_count": 9,
   "id": "5e4f7067-df27-4c56-b3d9-53dfaa8c1119",
   "metadata": {},
   "outputs": [
    {
     "data": {
      "text/plain": [
       "(1, 2, 3, 4, 4, 5)"
      ]
     },
     "execution_count": 9,
     "metadata": {},
     "output_type": "execute_result"
    }
   ],
   "source": [
    "t1"
   ]
  },
  {
   "cell_type": "code",
   "execution_count": 13,
   "id": "d30add3c-a56b-4df7-9ffa-26d416d30f68",
   "metadata": {},
   "outputs": [
    {
     "data": {
      "text/plain": [
       "2"
      ]
     },
     "execution_count": 13,
     "metadata": {},
     "output_type": "execute_result"
    }
   ],
   "source": [
    "t1.count(4)"
   ]
  },
  {
   "cell_type": "code",
   "execution_count": 19,
   "id": "17e3cbfc-4893-411d-a97f-b2a2507ec2d4",
   "metadata": {},
   "outputs": [
    {
     "data": {
      "text/plain": [
       "1"
      ]
     },
     "execution_count": 19,
     "metadata": {},
     "output_type": "execute_result"
    }
   ],
   "source": [
    "t1.index(2)"
   ]
  },
  {
   "cell_type": "code",
   "execution_count": 27,
   "id": "9f1d92fc-e955-4c2a-b239-0f5b01f1d541",
   "metadata": {},
   "outputs": [],
   "source": [
    "t2 = (500,[21,90,'pyhthon','india','byye'], 600, 300, (45,88,99), 200, [67,88,99])"
   ]
  },
  {
   "cell_type": "code",
   "execution_count": 23,
   "id": "50606d26-b60f-4c62-b7ed-bbe49c515bc5",
   "metadata": {},
   "outputs": [
    {
     "data": {
      "text/plain": [
       "(500,\n",
       " [21, 90, 'pyhthon', 'india', 'byye'],\n",
       " 600,\n",
       " 300,\n",
       " (45, 78, 99),\n",
       " 200,\n",
       " [67, 88, 99])"
      ]
     },
     "execution_count": 23,
     "metadata": {},
     "output_type": "execute_result"
    }
   ],
   "source": [
    "t2"
   ]
  },
  {
   "cell_type": "code",
   "execution_count": 25,
   "id": "16a015f0-e908-493c-bba2-95fef9cd1671",
   "metadata": {},
   "outputs": [
    {
     "data": {
      "text/plain": [
       "88"
      ]
     },
     "execution_count": 25,
     "metadata": {},
     "output_type": "execute_result"
    }
   ],
   "source": [
    "t2[6][1]"
   ]
  },
  {
   "cell_type": "code",
   "execution_count": 29,
   "id": "4192f54c-d939-4535-9aa5-cca782312f8a",
   "metadata": {},
   "outputs": [
    {
     "data": {
      "text/plain": [
       "(500,\n",
       " [21, 90, 'pyhthon', 'india', 'byye'],\n",
       " 600,\n",
       " 300,\n",
       " (45, 88, 99),\n",
       " 200,\n",
       " [67, 88, 99])"
      ]
     },
     "execution_count": 29,
     "metadata": {},
     "output_type": "execute_result"
    }
   ],
   "source": [
    "t2"
   ]
  },
  {
   "cell_type": "code",
   "execution_count": 31,
   "id": "1cd05744-5d31-4825-8fdd-56edaf3a8e8c",
   "metadata": {},
   "outputs": [
    {
     "data": {
      "text/plain": [
       "0"
      ]
     },
     "execution_count": 31,
     "metadata": {},
     "output_type": "execute_result"
    }
   ],
   "source": [
    "t2.count(88)"
   ]
  },
  {
   "cell_type": "code",
   "execution_count": 33,
   "id": "25e013bb-d930-4151-993f-7803e8e5347f",
   "metadata": {},
   "outputs": [],
   "source": [
    "## Dictonaries is key value pair format data"
   ]
  },
  {
   "cell_type": "code",
   "execution_count": 35,
   "id": "db6a6540-1803-4b2e-ad8a-01d18a8ed51a",
   "metadata": {},
   "outputs": [],
   "source": [
    "d1 = {'name':'ruchi', 'age':12, 'marks':100}"
   ]
  },
  {
   "cell_type": "code",
   "execution_count": 37,
   "id": "7999a2c6-48e5-424d-a19e-7096708e6a49",
   "metadata": {},
   "outputs": [
    {
     "data": {
      "text/plain": [
       "{'name': 'ruchi', 'age': 12, 'marks': 100}"
      ]
     },
     "execution_count": 37,
     "metadata": {},
     "output_type": "execute_result"
    }
   ],
   "source": [
    "d1"
   ]
  },
  {
   "cell_type": "code",
   "execution_count": 39,
   "id": "2683a44f-80ff-4d41-b8ab-d85b4f886f5b",
   "metadata": {},
   "outputs": [
    {
     "data": {
      "text/plain": [
       "dict"
      ]
     },
     "execution_count": 39,
     "metadata": {},
     "output_type": "execute_result"
    }
   ],
   "source": [
    "type(d1)"
   ]
  },
  {
   "cell_type": "code",
   "execution_count": 41,
   "id": "65b9d6e4-7e3e-4e57-9cbb-26c8586cba53",
   "metadata": {},
   "outputs": [
    {
     "data": {
      "text/plain": [
       "12"
      ]
     },
     "execution_count": 41,
     "metadata": {},
     "output_type": "execute_result"
    }
   ],
   "source": [
    "d1['age']"
   ]
  },
  {
   "cell_type": "code",
   "execution_count": 45,
   "id": "fbfa17df-74c3-49cd-9668-d3d5883c8ba0",
   "metadata": {},
   "outputs": [
    {
     "data": {
      "text/plain": [
       "{'a': 100, 'b': 100}"
      ]
     },
     "execution_count": 45,
     "metadata": {},
     "output_type": "execute_result"
    }
   ],
   "source": [
    "d1.fromkeys(['a','b'],100)"
   ]
  },
  {
   "cell_type": "code",
   "execution_count": 47,
   "id": "3b7d9d68-b041-4c71-bb8d-1ee715b9d62e",
   "metadata": {},
   "outputs": [],
   "source": [
    "## SEts - COllection of unique elements"
   ]
  },
  {
   "cell_type": "code",
   "execution_count": 59,
   "id": "1773cfdc-eff2-462e-b29e-87fc6b5ebfcc",
   "metadata": {},
   "outputs": [],
   "source": [
    "set1 = {1,2,3,4,5,6,2,3,4,5,6,3,2,3}"
   ]
  },
  {
   "cell_type": "code",
   "execution_count": 61,
   "id": "1264d528-c03b-4cbd-ba52-2761c4d1d857",
   "metadata": {},
   "outputs": [
    {
     "data": {
      "text/plain": [
       "set"
      ]
     },
     "execution_count": 61,
     "metadata": {},
     "output_type": "execute_result"
    }
   ],
   "source": [
    "type(set1)"
   ]
  },
  {
   "cell_type": "code",
   "execution_count": 63,
   "id": "ee133c16-de1f-436c-abb9-be74c4fe37ca",
   "metadata": {},
   "outputs": [
    {
     "data": {
      "text/plain": [
       "{1, 2, 3, 4, 5, 6}"
      ]
     },
     "execution_count": 63,
     "metadata": {},
     "output_type": "execute_result"
    }
   ],
   "source": [
    "set1"
   ]
  },
  {
   "cell_type": "code",
   "execution_count": null,
   "id": "be6982e3-928a-4e07-8b61-994e5a275eb1",
   "metadata": {},
   "outputs": [],
   "source": [
    "set1."
   ]
  }
 ],
 "metadata": {
  "kernelspec": {
   "display_name": "Python [conda env:base] *",
   "language": "python",
   "name": "conda-base-py"
  },
  "language_info": {
   "codemirror_mode": {
    "name": "ipython",
    "version": 3
   },
   "file_extension": ".py",
   "mimetype": "text/x-python",
   "name": "python",
   "nbconvert_exporter": "python",
   "pygments_lexer": "ipython3",
   "version": "3.12.7"
  }
 },
 "nbformat": 4,
 "nbformat_minor": 5
}

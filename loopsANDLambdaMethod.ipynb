{
 "cells": [
  {
   "cell_type": "code",
   "execution_count": 1,
   "id": "e550808e-e7bd-43a9-99b3-ac70f6a53b1a",
   "metadata": {},
   "outputs": [],
   "source": [
    "## for loops"
   ]
  },
  {
   "cell_type": "code",
   "execution_count": 19,
   "id": "1b320c05-fc0d-471f-aed0-25d3a73f0851",
   "metadata": {},
   "outputs": [
    {
     "ename": "NameError",
     "evalue": "name 'Print' is not defined",
     "output_type": "error",
     "traceback": [
      "\u001b[1;31m---------------------------------------------------------------------------\u001b[0m",
      "\u001b[1;31mNameError\u001b[0m                                 Traceback (most recent call last)",
      "Cell \u001b[1;32mIn[19], line 2\u001b[0m\n\u001b[0;32m      1\u001b[0m \u001b[38;5;28;01mfor\u001b[39;00m v \u001b[38;5;129;01min\u001b[39;00m \u001b[38;5;28mrange\u001b[39m(\u001b[38;5;241m5\u001b[39m):\n\u001b[1;32m----> 2\u001b[0m     Print(v)\n",
      "\u001b[1;31mNameError\u001b[0m: name 'Print' is not defined"
     ]
    }
   ],
   "source": [
    "for v in range(5):\n",
    "    Print(v)"
   ]
  },
  {
   "cell_type": "code",
   "execution_count": 11,
   "id": "6314e991-e1c3-4177-bb4f-d0e95aac1881",
   "metadata": {},
   "outputs": [
    {
     "name": "stdout",
     "output_type": "stream",
     "text": [
      "01234"
     ]
    }
   ],
   "source": [
    "for v in range(5):\n",
    "    print(v, end=\"\") ## if you want to change format of out "
   ]
  },
  {
   "cell_type": "code",
   "execution_count": 13,
   "id": "21bb4b33-0510-485a-8c14-6757c14de64c",
   "metadata": {},
   "outputs": [
    {
     "name": "stdout",
     "output_type": "stream",
     "text": [
      "0 IND 1 IND 2 IND 3 IND 4 IND "
     ]
    }
   ],
   "source": [
    "for v in range(5):\n",
    "    print(v, end=\" IND \")"
   ]
  },
  {
   "cell_type": "code",
   "execution_count": 21,
   "id": "361199c3-0c4e-4e92-a819-281e1bea66a0",
   "metadata": {},
   "outputs": [
    {
     "name": "stdout",
     "output_type": "stream",
     "text": [
      "55\n",
      "89\n",
      "120\n"
     ]
    }
   ],
   "source": [
    "## SLice Notation example\n",
    "data = [22,55,89,120,130]\n",
    "for v in data[1:4]:\n",
    "    print(v)"
   ]
  },
  {
   "cell_type": "code",
   "execution_count": 29,
   "id": "76193bde-4632-4b64-992a-a5d5a827ced2",
   "metadata": {},
   "outputs": [
    {
     "name": "stdout",
     "output_type": "stream",
     "text": [
      "22\n",
      "120\n",
      "130\n"
     ]
    }
   ],
   "source": [
    "## fetch even number \n",
    "for v in data:\n",
    "    if v%2 == 0:\n",
    "        print(v)"
   ]
  },
  {
   "cell_type": "code",
   "execution_count": 33,
   "id": "f2f33dc4-d577-449e-bfc7-546f3981dac5",
   "metadata": {},
   "outputs": [
    {
     "name": "stdout",
     "output_type": "stream",
     "text": [
      "5\n",
      "6\n",
      "6\n",
      "5\n",
      "3\n"
     ]
    }
   ],
   "source": [
    "## length for the variable - it will only work for string\n",
    "lendiv = ['hello','target','python','india','bye']\n",
    "for v in lendiv:\n",
    "    print(len(v))"
   ]
  },
  {
   "cell_type": "code",
   "execution_count": 39,
   "id": "542d181d-d0d0-4a0f-b48b-e1cefbcc28c7",
   "metadata": {},
   "outputs": [],
   "source": [
    "lendiv2 = ['hello',567,82,'target','python',111,['a','b','c'],(44,55,660),'india', True, 5+2j, [1,2],'bye']"
   ]
  },
  {
   "cell_type": "code",
   "execution_count": 45,
   "id": "41495048-0582-43d8-96d4-ef08ef2bef07",
   "metadata": {},
   "outputs": [
    {
     "name": "stdout",
     "output_type": "stream",
     "text": [
      "['a', 'b', 'c']\n",
      "[1, 2]\n"
     ]
    }
   ],
   "source": [
    "for v in lendiv2:\n",
    "    if type(v)==list:\n",
    "       print(v)"
   ]
  },
  {
   "cell_type": "code",
   "execution_count": 47,
   "id": "2d2daf32-0e41-47b9-bfc8-4162bdcede42",
   "metadata": {},
   "outputs": [
    {
     "name": "stdout",
     "output_type": "stream",
     "text": [
      "(44, 55, 660)\n"
     ]
    }
   ],
   "source": [
    "for v in lendiv2:\n",
    "    if type(v)==tuple:\n",
    "       print(v)"
   ]
  },
  {
   "cell_type": "code",
   "execution_count": 51,
   "id": "6896965a-fdcd-4080-88ba-c9f51d3de7b9",
   "metadata": {},
   "outputs": [
    {
     "name": "stdout",
     "output_type": "stream",
     "text": [
      "10\n",
      "11\n",
      "12\n",
      "13\n",
      "14\n",
      "15\n",
      "16\n",
      "17\n",
      "18\n",
      "19\n"
     ]
    }
   ],
   "source": [
    "## while loop - until the condition is satisfied \n",
    "a = 10\n",
    "while a<20:\n",
    "    print(a)\n",
    "    a=a+1"
   ]
  },
  {
   "cell_type": "code",
   "execution_count": 55,
   "id": "317e6c45-b53b-426f-a586-6c619348b17c",
   "metadata": {},
   "outputs": [],
   "source": [
    "## Functions - BLock of code\n",
    "## def - defination of funtion\n",
    "def first_fun():\n",
    "    print(\"Good Afternoon !!!\")"
   ]
  },
  {
   "cell_type": "code",
   "execution_count": 57,
   "id": "5ff0d205-c7a3-43fb-b09b-3309f37b6576",
   "metadata": {},
   "outputs": [
    {
     "name": "stdout",
     "output_type": "stream",
     "text": [
      "Good Afternoon !!!\n"
     ]
    }
   ],
   "source": [
    "first_fun()"
   ]
  },
  {
   "cell_type": "code",
   "execution_count": 61,
   "id": "c8d63f4a-615b-4b93-ad21-277f905378c1",
   "metadata": {},
   "outputs": [],
   "source": [
    "def test_fun(n):\n",
    "    for v in n:\n",
    "        if type(v)==list:\n",
    "            print(v)"
   ]
  },
  {
   "cell_type": "code",
   "execution_count": 63,
   "id": "168fc398-b3f1-4bfa-baec-0a3d454e43ff",
   "metadata": {},
   "outputs": [
    {
     "name": "stdout",
     "output_type": "stream",
     "text": [
      "['a', 'b', 'c']\n",
      "[1, 2]\n"
     ]
    }
   ],
   "source": [
    "test_fun(lendiv2)"
   ]
  },
  {
   "cell_type": "code",
   "execution_count": 1,
   "id": "1dfcb55f-81ee-4965-a18d-09fd7ee00d53",
   "metadata": {},
   "outputs": [
    {
     "name": "stdout",
     "output_type": "stream",
     "text": [
      "RUCHIBALESHWAR\n"
     ]
    }
   ],
   "source": [
    "## lambda expression - Anonymous function \n",
    "\n",
    "s1 = \"ruchibaleshwar\"\n",
    "s2 = lambda func: func.upper()\n",
    "print(s2(s1))"
   ]
  },
  {
   "cell_type": "code",
   "execution_count": 6,
   "id": "5954dbae-ab24-4a4f-b70c-3f025db91810",
   "metadata": {},
   "outputs": [
    {
     "name": "stdout",
     "output_type": "stream",
     "text": [
      "Positive\n",
      "Nagative\n",
      "Zero\n"
     ]
    }
   ],
   "source": [
    "n = lambda x: \"Positive\" if x > 0 else \"Nagative\" if x < 0 else \"Zero\"\n",
    "\n",
    "print(n(10))\n",
    "print(n(-1))\n",
    "print(n(0))"
   ]
  },
  {
   "cell_type": "code",
   "execution_count": 8,
   "id": "59e89dad-d80b-4163-9ca5-ad84c5e4002b",
   "metadata": {},
   "outputs": [
    {
     "data": {
      "text/plain": [
       "['456', 'bye']"
      ]
     },
     "execution_count": 8,
     "metadata": {},
     "output_type": "execute_result"
    }
   ],
   "source": [
    "d1 = ['hello', 'target', 'python','456','bye']\n",
    "t2 = lambda x:len(x) < 4\n",
    "list(filter(t2,d1))"
   ]
  },
  {
   "cell_type": "code",
   "execution_count": 10,
   "id": "7ac5c061-c011-448a-8da8-21bb4b4bd680",
   "metadata": {},
   "outputs": [],
   "source": [
    "def find_cube1(x):\n",
    "    return x**3"
   ]
  },
  {
   "cell_type": "code",
   "execution_count": 12,
   "id": "b03d0916-2fbb-4614-b42e-883362ba7f2e",
   "metadata": {},
   "outputs": [],
   "source": [
    "def find_cube2(x):\n",
    "    print(x**3)"
   ]
  },
  {
   "cell_type": "code",
   "execution_count": 22,
   "id": "2a1f6a72-5c83-4051-958a-7fdf3e44d5be",
   "metadata": {},
   "outputs": [
    {
     "data": {
      "text/plain": [
       "125"
      ]
     },
     "execution_count": 22,
     "metadata": {},
     "output_type": "execute_result"
    }
   ],
   "source": [
    "find_cube1(5)"
   ]
  },
  {
   "cell_type": "code",
   "execution_count": 18,
   "id": "bec101b4-d81f-48c8-bc62-346f08a27b19",
   "metadata": {},
   "outputs": [
    {
     "name": "stdout",
     "output_type": "stream",
     "text": [
      "125\n"
     ]
    }
   ],
   "source": [
    "find_cube2(5)"
   ]
  },
  {
   "cell_type": "code",
   "execution_count": 34,
   "id": "dce8e061-39d5-4f49-aadf-977eac63b3bc",
   "metadata": {},
   "outputs": [
    {
     "name": "stdout",
     "output_type": "stream",
     "text": [
      "125\n"
     ]
    },
    {
     "data": {
      "text/plain": [
       "False"
      ]
     },
     "execution_count": 34,
     "metadata": {},
     "output_type": "execute_result"
    }
   ],
   "source": [
    "res1=find_cube1(5)\n",
    "res2=find_cube2(5)\n",
    "res1==res2"
   ]
  },
  {
   "cell_type": "code",
   "execution_count": 9,
   "id": "65fb9f82-c989-4277-a17e-0a69f34b4632",
   "metadata": {},
   "outputs": [],
   "source": [
    "data = ['php','mambo','india','couple','last','peek']"
   ]
  },
  {
   "cell_type": "code",
   "execution_count": 11,
   "id": "16b07cdd-e926-4e8b-89af-2d3a17855b0d",
   "metadata": {},
   "outputs": [
    {
     "data": {
      "text/plain": [
       "['php', 'mambo', 'india', 'couple', 'last', 'peek']"
      ]
     },
     "execution_count": 11,
     "metadata": {},
     "output_type": "execute_result"
    }
   ],
   "source": [
    "data"
   ]
  },
  {
   "cell_type": "code",
   "execution_count": 15,
   "id": "e61928c2-7911-44bc-9428-23a2f50dab86",
   "metadata": {},
   "outputs": [],
   "source": [
    "t = lambda v:v[0]!='p'"
   ]
  },
  {
   "cell_type": "code",
   "execution_count": 17,
   "id": "32458f7c-1133-45a4-8ac1-911c6d8f2718",
   "metadata": {},
   "outputs": [
    {
     "data": {
      "text/plain": [
       "<map at 0x18c6385e7a0>"
      ]
     },
     "execution_count": 17,
     "metadata": {},
     "output_type": "execute_result"
    }
   ],
   "source": [
    "map(t,data)"
   ]
  },
  {
   "cell_type": "code",
   "execution_count": 19,
   "id": "519eee79-4dad-4960-b96c-e84adb8bfcdf",
   "metadata": {},
   "outputs": [
    {
     "data": {
      "text/plain": [
       "[False, True, True, True, True, False]"
      ]
     },
     "execution_count": 19,
     "metadata": {},
     "output_type": "execute_result"
    }
   ],
   "source": [
    "list(map(t,data))"
   ]
  },
  {
   "cell_type": "code",
   "execution_count": 23,
   "id": "0fb436bf-9497-47ac-8b4c-d9b5d29d04d9",
   "metadata": {},
   "outputs": [
    {
     "data": {
      "text/plain": [
       "['mambo', 'india', 'couple', 'last']"
      ]
     },
     "execution_count": 23,
     "metadata": {},
     "output_type": "execute_result"
    }
   ],
   "source": [
    "list(filter(t,data))"
   ]
  },
  {
   "cell_type": "code",
   "execution_count": 53,
   "id": "7e9dc7c9-c1bd-4fb5-9c70-9c59d8399290",
   "metadata": {},
   "outputs": [],
   "source": [
    "## with regular function\n",
    "output=[];\n",
    "def not_startwith_letter(n,word):\n",
    "    for v in n:\n",
    "        if v[0]!=word:\n",
    "               output.append(v)\n",
    "        print(output)"
   ]
  },
  {
   "cell_type": "code",
   "execution_count": 55,
   "id": "93cafa43-72a8-42f8-ab4f-070269eab23d",
   "metadata": {},
   "outputs": [
    {
     "name": "stdout",
     "output_type": "stream",
     "text": [
      "['php']\n",
      "['php']\n",
      "['php', 'india']\n",
      "['php', 'india', 'couple']\n",
      "['php', 'india', 'couple', 'last']\n",
      "['php', 'india', 'couple', 'last', 'peek']\n"
     ]
    }
   ],
   "source": [
    "not_startwith_letter(data,'m')"
   ]
  },
  {
   "cell_type": "code",
   "execution_count": 57,
   "id": "a72d5435-bcb8-4951-9130-1688b9ebabb3",
   "metadata": {},
   "outputs": [],
   "source": [
    "## tuple unpacking - how to print only first element of array\n",
    "tuplev = [(1,2),(3,4),(5,6)]"
   ]
  },
  {
   "cell_type": "code",
   "execution_count": 59,
   "id": "221d9410-68cc-48c2-9805-b6215d112c5d",
   "metadata": {},
   "outputs": [
    {
     "name": "stdout",
     "output_type": "stream",
     "text": [
      "1\n",
      "3\n",
      "5\n"
     ]
    }
   ],
   "source": [
    "for v in tuplev:\n",
    "    print(v[0])"
   ]
  },
  {
   "cell_type": "code",
   "execution_count": null,
   "id": "f879b4b7-1e1a-4a2a-a7a3-01083acedb93",
   "metadata": {},
   "outputs": [],
   "source": []
  }
 ],
 "metadata": {
  "kernelspec": {
   "display_name": "Python [conda env:base] *",
   "language": "python",
   "name": "conda-base-py"
  },
  "language_info": {
   "codemirror_mode": {
    "name": "ipython",
    "version": 3
   },
   "file_extension": ".py",
   "mimetype": "text/x-python",
   "name": "python",
   "nbconvert_exporter": "python",
   "pygments_lexer": "ipython3",
   "version": "3.12.7"
  }
 },
 "nbformat": 4,
 "nbformat_minor": 5
}

{
  "cells": [
    {
      "cell_type": "markdown",
      "metadata": {
        "id": "ytL82Qr6vCaG"
      },
      "source": [
        "___\n",
        "\n",
        "Mr. Yogesh P Murumkar (Mob. 9657080905)\n",
        "___"
      ]
    },
    {
      "cell_type": "markdown",
      "metadata": {
        "collapsed": true,
        "id": "l8_gPc0-vCaT"
      },
      "source": [
        "# Introduction to Pandas\n",
        "\n",
        "In this section of the course we will learn how to use pandas for data analysis. You can think of pandas as an extremely powerful version of Excel, with a lot more features. In this section of the course, you should go through the notebooks in this order:\n",
        "\n",
        "* Introduction to Pandas\n",
        "* Series\n",
        "* DataFrames\n",
        "* Missing Data\n",
        "* GroupBy\n",
        "* Merging,Joining,and Concatenating\n",
        "* Operations\n",
        "* Data Input and Output"
      ]
    },
    {
      "cell_type": "markdown",
      "metadata": {
        "id": "3GVXW_DXvCaV"
      },
      "source": [
        "___"
      ]
    }
  ],
  "metadata": {
    "colab": {
      "provenance": []
    },
    "kernelspec": {
      "display_name": "Python 3 (ipykernel)",
      "language": "python",
      "name": "python3"
    },
    "language_info": {
      "codemirror_mode": {
        "name": "ipython",
        "version": 3
      },
      "file_extension": ".py",
      "mimetype": "text/x-python",
      "name": "python",
      "nbconvert_exporter": "python",
      "pygments_lexer": "ipython3",
      "version": "3.10.9"
    }
  },
  "nbformat": 4,
  "nbformat_minor": 0
}